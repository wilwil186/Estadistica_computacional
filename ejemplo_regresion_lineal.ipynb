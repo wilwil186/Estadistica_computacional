{
  "nbformat": 4,
  "nbformat_minor": 0,
  "metadata": {
    "colab": {
      "name": "ejemplo_regresion_lineal",
      "provenance": [],
      "include_colab_link": true
    },
    "kernelspec": {
      "name": "python3",
      "display_name": "Python 3"
    }
  },
  "cells": [
    {
      "cell_type": "markdown",
      "metadata": {
        "id": "view-in-github",
        "colab_type": "text"
      },
      "source": [
        "<a href=\"https://colab.research.google.com/github/wilwil186/Estadistica_computacional/blob/main/ejemplo_regresion_lineal.ipynb\" target=\"_parent\"><img src=\"https://colab.research.google.com/assets/colab-badge.svg\" alt=\"Open In Colab\"/></a>"
      ]
    },
    {
      "cell_type": "code",
      "metadata": {
        "id": "w01NLUBniH1r",
        "colab": {
          "base_uri": "https://localhost:8080/",
          "height": 34
        },
        "outputId": "4da9ee2a-f1c7-4b4c-f922-abf05e73db39"
      },
      "source": [
        "import numpy as np\n",
        "x = np.array([0, 1, 2, 3, 4, 5, 6, 7, 8])\n",
        "y = np.array([1, 2, 3, 5, 4, 6, 8, 7, 9])\n",
        "\n",
        "coeffs = np.polyfit(x, y, 1)\n",
        "print(coeffs)"
      ],
      "execution_count": null,
      "outputs": [
        {
          "output_type": "stream",
          "text": [
            "[0.96666667 1.13333333]\n"
          ],
          "name": "stdout"
        }
      ]
    },
    {
      "cell_type": "code",
      "metadata": {
        "id": "iVfaC2oiiqex"
      },
      "source": [
        "m = coeffs[0]\n",
        "b = coeffs[1]\n",
        "est_y = (m * x) + b"
      ],
      "execution_count": null,
      "outputs": []
    },
    {
      "cell_type": "code",
      "metadata": {
        "id": "M-ydNFdSi8PN",
        "colab": {
          "base_uri": "https://localhost:8080/",
          "height": 265
        },
        "outputId": "18c9d926-98e8-4c12-b8d0-26d9df8e4091"
      },
      "source": [
        "import matplotlib.pyplot as plt\n",
        "plt.plot(x, est_y)\n",
        "plt.scatter(x, y)\n",
        "plt.show()"
      ],
      "execution_count": null,
      "outputs": [
        {
          "output_type": "display_data",
          "data": {
            "image/png": "[encoded data removed]",
            "text/plain": [
              "<Figure size 432x288 with 1 Axes>"
            ]
          },
          "metadata": {
            "tags": []
          }
        }
      ]
    }
  ]
}